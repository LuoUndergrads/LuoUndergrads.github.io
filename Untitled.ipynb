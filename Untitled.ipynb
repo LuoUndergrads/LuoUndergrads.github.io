{
 "cells": [
  {
   "cell_type": "code",
   "execution_count": 1,
   "metadata": {
    "collapsed": true
   },
   "outputs": [],
   "source": [
    "import pandas as pd"
   ]
  },
  {
   "cell_type": "code",
   "execution_count": 7,
   "metadata": {
    "collapsed": false
   },
   "outputs": [],
   "source": [
    "df2 = pd.DataFrame([[\"4/26/2016\",\"Girls Encoded Motivates Students to Study CS\",\n",
    "                     \"http://www.eecs.umich.edu/eecs/about/articles/2016/Girls-Encoded.html\"],\n",
    "                   [\"11/4/2015\",\"Lie-detecting algorithm spots fibbing faces better than humans\",\n",
    "                   \"https://www.newscientist.com/article/mg22830462-700-lie-detecting-algorithm-spots-fibbing-faces-better-than-humans/\"]],\n",
    "                   columns=['date','description','link'])"
   ]
  },
  {
   "cell_type": "code",
   "execution_count": 8,
   "metadata": {
    "collapsed": false
   },
   "outputs": [
    {
     "data": {
      "text/html": [
       "<div>\n",
       "<table border=\"1\" class=\"dataframe\">\n",
       "  <thead>\n",
       "    <tr style=\"text-align: right;\">\n",
       "      <th></th>\n",
       "      <th>date</th>\n",
       "      <th>description</th>\n",
       "      <th>link</th>\n",
       "    </tr>\n",
       "  </thead>\n",
       "  <tbody>\n",
       "    <tr>\n",
       "      <th>0</th>\n",
       "      <td>4/26/2016</td>\n",
       "      <td>Girls Encoded Motivates Students to Study CS</td>\n",
       "      <td>http://www.eecs.umich.edu/eecs/about/articles/...</td>\n",
       "    </tr>\n",
       "    <tr>\n",
       "      <th>1</th>\n",
       "      <td>11/4/2015</td>\n",
       "      <td>Lie-detecting algorithm spots fibbing faces be...</td>\n",
       "      <td>https://www.newscientist.com/article/mg2283046...</td>\n",
       "    </tr>\n",
       "  </tbody>\n",
       "</table>\n",
       "</div>"
      ],
      "text/plain": [
       "        date                                        description  \\\n",
       "0  4/26/2016       Girls Encoded Motivates Students to Study CS   \n",
       "1  11/4/2015  Lie-detecting algorithm spots fibbing faces be...   \n",
       "\n",
       "                                                link  \n",
       "0  http://www.eecs.umich.edu/eecs/about/articles/...  \n",
       "1  https://www.newscientist.com/article/mg2283046...  "
      ]
     },
     "execution_count": 8,
     "metadata": {},
     "output_type": "execute_result"
    }
   ],
   "source": [
    "df2"
   ]
  },
  {
   "cell_type": "code",
   "execution_count": 9,
   "metadata": {
    "collapsed": false
   },
   "outputs": [],
   "source": [
    "df2.to_csv('recent_news.csv')"
   ]
  },
  {
   "cell_type": "code",
   "execution_count": 10,
   "metadata": {
    "collapsed": true
   },
   "outputs": [],
   "source": [
    "people = pd.DataFrame([['rada.jpg','Rada Mihalcea','Associate Professor',\n",
    "                       'mihalcea','https://web.eecs.umich.edu/~mihalcea/'],\n",
    "                      ['mohamed.jpg','Mohamed Abouelenien','Post-Doctoral Researcher',\n",
    "                      'zmohamed','http://web.eecs.umich.edu/~zmohamed/'],\n",
    "                      ['mahmoud.jpg','Mahmoud Azab','PhD Student, Computer Science and Engineering',\n",
    "                      'mazab','http://web.eecs.umich.edu/~mazab/'],\n",
    "                       ['carmen.jpg','Carmen Banea','Post-Doctoral Researcher',\n",
    "                       'carmennb','http://www.carmenbanea.com/'],\n",
    "                       ['jessica.jpg','Jessica Xi Chen','Undergraduate Student, Computer Science and Engineering',\n",
    "                       'chenxicx',''],\n",
    "                       ['hogene.jpg','Ho-gene Choe','Masters Student, Computer Science and Engineering',\n",
    "                       'hgchoe',''],\n",
    "                       ['aparna.jpg','Aparna Garimella','PhD Student, Computer Science and Engineering',\n",
    "                       'gaparna',''],\n",
    "                       ['shibamouli.jpg','Shibamouli Lahiri','PhD Student, Computer Science and Engineering',\n",
    "                        'shibamoulilahiri','http://web.eecs.umich.edu/~lahiri/'],\n",
    "                       ['konstantinos.jpg','Konstantinos Pappas','PhD Student, Computer Science and Engineering',\n",
    "                       'pappus',''],\n",
    "                       ['veronica.jpg','Veronica Perez Rosas','Post-Doctoral Researcher',\n",
    "                       'vrncapr',''],\n",
    "                       ['charlie.jpg','Charlie Welch','PhD Student, Computer Science and Engineering',\n",
    "                       'cfwelch','http://web.eecs.umich.edu/~cfwelch/'],\n",
    "                       ['laura.jpg','Laura Wendlandt','PhD Student, Computer Science and Engineering',\n",
    "                       'wenlaura',''],\n",
    "                       ['steve.jpg','Steven Wilson','PhD Student, Computer Science and Engineering',\n",
    "                       'steverw','http://nlp.eecs.umich.edu/~steverw/'],\n",
    "                       ['renhan.jpg','Renhan Zhang','Masters Student, Computer Science and Engineering',\n",
    "                       'rhzhang','']\n",
    "        ],columns=['image','name','description','uniqname','link'])"
   ]
  },
  {
   "cell_type": "code",
   "execution_count": 12,
   "metadata": {
    "collapsed": true
   },
   "outputs": [],
   "source": [
    "people.to_csv(\"data/people.csv\",sep=';')"
   ]
  },
  {
   "cell_type": "code",
   "execution_count": null,
   "metadata": {
    "collapsed": true
   },
   "outputs": [],
   "source": []
  }
 ],
 "metadata": {
  "kernelspec": {
   "display_name": "Python 3",
   "language": "python",
   "name": "python3"
  },
  "language_info": {
   "codemirror_mode": {
    "name": "ipython",
    "version": 3
   },
   "file_extension": ".py",
   "mimetype": "text/x-python",
   "name": "python",
   "nbconvert_exporter": "python",
   "pygments_lexer": "ipython3",
   "version": "3.5.1"
  }
 },
 "nbformat": 4,
 "nbformat_minor": 0
}

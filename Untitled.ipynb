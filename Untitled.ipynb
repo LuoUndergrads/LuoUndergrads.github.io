{
 "cells": [
  {
   "cell_type": "code",
   "execution_count": 1,
   "metadata": {
    "collapsed": true
   },
   "outputs": [],
   "source": [
    "import pandas as pd"
   ]
  },
  {
   "cell_type": "code",
   "execution_count": 2,
   "metadata": {
    "collapsed": false
   },
   "outputs": [],
   "source": [
    "df = pd.DataFrame(columns=['date','description','link'])"
   ]
  },
  {
   "cell_type": "code",
   "execution_count": 3,
   "metadata": {
    "collapsed": false
   },
   "outputs": [
    {
     "data": {
      "text/html": [
       "<div>\n",
       "<table border=\"1\" class=\"dataframe\">\n",
       "  <thead>\n",
       "    <tr style=\"text-align: right;\">\n",
       "      <th></th>\n",
       "      <th>date</th>\n",
       "      <th>description</th>\n",
       "      <th>link</th>\n",
       "    </tr>\n",
       "  </thead>\n",
       "  <tbody>\n",
       "  </tbody>\n",
       "</table>\n",
       "</div>"
      ],
      "text/plain": [
       "Empty DataFrame\n",
       "Columns: [date, description, link]\n",
       "Index: []"
      ]
     },
     "execution_count": 3,
     "metadata": {},
     "output_type": "execute_result"
    }
   ],
   "source": [
    "df"
   ]
  },
  {
   "cell_type": "code",
   "execution_count": 7,
   "metadata": {
    "collapsed": false
   },
   "outputs": [],
   "source": [
    "df2 = pd.DataFrame([[\"4/26/2016\",\"Girls Encoded Motivates Students to Study CS\",\n",
    "                     \"http://www.eecs.umich.edu/eecs/about/articles/2016/Girls-Encoded.html\"],\n",
    "                   [\"11/4/2015\",\"Lie-detecting algorithm spots fibbing faces better than humans\",\n",
    "                   \"https://www.newscientist.com/article/mg22830462-700-lie-detecting-algorithm-spots-fibbing-faces-better-than-humans/\"]],\n",
    "                   columns=['date','description','link'])"
   ]
  },
  {
   "cell_type": "code",
   "execution_count": 8,
   "metadata": {
    "collapsed": false
   },
   "outputs": [
    {
     "data": {
      "text/html": [
       "<div>\n",
       "<table border=\"1\" class=\"dataframe\">\n",
       "  <thead>\n",
       "    <tr style=\"text-align: right;\">\n",
       "      <th></th>\n",
       "      <th>date</th>\n",
       "      <th>description</th>\n",
       "      <th>link</th>\n",
       "    </tr>\n",
       "  </thead>\n",
       "  <tbody>\n",
       "    <tr>\n",
       "      <th>0</th>\n",
       "      <td>4/26/2016</td>\n",
       "      <td>Girls Encoded Motivates Students to Study CS</td>\n",
       "      <td>http://www.eecs.umich.edu/eecs/about/articles/...</td>\n",
       "    </tr>\n",
       "    <tr>\n",
       "      <th>1</th>\n",
       "      <td>11/4/2015</td>\n",
       "      <td>Lie-detecting algorithm spots fibbing faces be...</td>\n",
       "      <td>https://www.newscientist.com/article/mg2283046...</td>\n",
       "    </tr>\n",
       "  </tbody>\n",
       "</table>\n",
       "</div>"
      ],
      "text/plain": [
       "        date                                        description  \\\n",
       "0  4/26/2016       Girls Encoded Motivates Students to Study CS   \n",
       "1  11/4/2015  Lie-detecting algorithm spots fibbing faces be...   \n",
       "\n",
       "                                                link  \n",
       "0  http://www.eecs.umich.edu/eecs/about/articles/...  \n",
       "1  https://www.newscientist.com/article/mg2283046...  "
      ]
     },
     "execution_count": 8,
     "metadata": {},
     "output_type": "execute_result"
    }
   ],
   "source": [
    "df2"
   ]
  },
  {
   "cell_type": "code",
   "execution_count": 9,
   "metadata": {
    "collapsed": false
   },
   "outputs": [],
   "source": [
    "df2.to_csv('recent_news.csv')"
   ]
  },
  {
   "cell_type": "code",
   "execution_count": 69,
   "metadata": {
    "collapsed": false
   },
   "outputs": [],
   "source": [
    "df = df.append(df2)"
   ]
  },
  {
   "cell_type": "code",
   "execution_count": 69,
   "metadata": {
    "collapsed": false
   },
   "outputs": [
    {
     "name": "stdout",
     "output_type": "stream",
     "text": [
      "Traceback (most recent call last):\n",
      "  File \"//anaconda/lib/python3.5/site-packages/IPython/core/interactiveshell.py\", line 3066, in run_code\n",
      "    exec(code_obj, self.user_global_ns, self.user_ns)\n",
      "  File \"<ipython-input-70-1dfc55cb4cbe>\", line 1, in <module>\n",
      "    df.to_csv(\"recent_news.csv\")\n",
      "  File \"//anaconda/lib/python3.5/site-packages/pandas/core/frame.py\", line 1332, in to_csv\n",
      "    formatter.save()\n",
      "  File \"//anaconda/lib/python3.5/site-packages/pandas/core/format.py\", line 1481, in save\n",
      "    compression=self.compression)\n",
      "  File \"//anaconda/lib/python3.5/site-packages/pandas/io/common.py\", line 354, in _get_handle\n",
      "    f = open(path, mode, errors='replace')\n",
      "FileNotFoundError: [Errno 2] No such file or directory: 'recent_news.csv'\n",
      "\n",
      "During handling of the above exception, another exception occurred:\n",
      "\n",
      "Traceback (most recent call last):\n",
      "  File \"//anaconda/lib/python3.5/site-packages/IPython/core/interactiveshell.py\", line 1877, in showtraceback\n",
      "    stb = value._render_traceback_()\n",
      "AttributeError: 'FileNotFoundError' object has no attribute '_render_traceback_'\n",
      "\n",
      "During handling of the above exception, another exception occurred:\n",
      "\n",
      "Traceback (most recent call last):\n",
      "  File \"//anaconda/lib/python3.5/site-packages/IPython/core/ultratb.py\", line 970, in get_records\n",
      "    return _fixed_getinnerframes(etb, number_of_lines_of_context, tb_offset)\n",
      "  File \"//anaconda/lib/python3.5/site-packages/IPython/core/ultratb.py\", line 233, in wrapped\n",
      "    return f(*args, **kwargs)\n",
      "  File \"//anaconda/lib/python3.5/site-packages/IPython/core/ultratb.py\", line 267, in _fixed_getinnerframes\n",
      "    records = fix_frame_records_filenames(inspect.getinnerframes(etb, context))\n",
      "  File \"//anaconda/lib/python3.5/inspect.py\", line 1453, in getinnerframes\n",
      "    frameinfo = (tb.tb_frame,) + getframeinfo(tb, context)\n",
      "  File \"//anaconda/lib/python3.5/inspect.py\", line 1410, in getframeinfo\n",
      "    filename = getsourcefile(frame) or getfile(frame)\n",
      "  File \"//anaconda/lib/python3.5/inspect.py\", line 672, in getsourcefile\n",
      "    if getattr(getmodule(object, filename), '__loader__', None) is not None:\n",
      "  File \"//anaconda/lib/python3.5/inspect.py\", line 701, in getmodule\n",
      "    file = getabsfile(object, _filename)\n",
      "  File \"//anaconda/lib/python3.5/inspect.py\", line 685, in getabsfile\n",
      "    return os.path.normcase(os.path.abspath(_filename))\n",
      "  File \"//anaconda/lib/python3.5/posixpath.py\", line 361, in abspath\n",
      "    cwd = os.getcwd()\n",
      "FileNotFoundError: [Errno 2] No such file or directory\n",
      "Traceback (most recent call last):\n",
      "  File \"//anaconda/lib/python3.5/site-packages/IPython/core/interactiveshell.py\", line 3066, in run_code\n",
      "    exec(code_obj, self.user_global_ns, self.user_ns)\n",
      "  File \"<ipython-input-70-1dfc55cb4cbe>\", line 1, in <module>\n",
      "    df.to_csv(\"recent_news.csv\")\n",
      "  File \"//anaconda/lib/python3.5/site-packages/pandas/core/frame.py\", line 1332, in to_csv\n",
      "    formatter.save()\n",
      "  File \"//anaconda/lib/python3.5/site-packages/pandas/core/format.py\", line 1481, in save\n",
      "    compression=self.compression)\n",
      "  File \"//anaconda/lib/python3.5/site-packages/pandas/io/common.py\", line 354, in _get_handle\n",
      "    f = open(path, mode, errors='replace')\n",
      "FileNotFoundError: [Errno 2] No such file or directory: 'recent_news.csv'\n",
      "\n",
      "During handling of the above exception, another exception occurred:\n",
      "\n",
      "Traceback (most recent call last):\n",
      "  File \"//anaconda/lib/python3.5/site-packages/IPython/core/interactiveshell.py\", line 1877, in showtraceback\n",
      "    stb = value._render_traceback_()\n",
      "AttributeError: 'FileNotFoundError' object has no attribute '_render_traceback_'\n",
      "\n",
      "During handling of the above exception, another exception occurred:\n",
      "\n",
      "Traceback (most recent call last):\n",
      "  File \"//anaconda/lib/python3.5/site-packages/IPython/core/interactiveshell.py\", line 3012, in run_ast_nodes\n",
      "    if self.run_code(code, result):\n",
      "  File \"//anaconda/lib/python3.5/site-packages/IPython/core/interactiveshell.py\", line 3083, in run_code\n",
      "    self.showtraceback()\n",
      "  File \"//anaconda/lib/python3.5/site-packages/IPython/core/interactiveshell.py\", line 1880, in showtraceback\n",
      "    value, tb, tb_offset=tb_offset)\n",
      "  File \"//anaconda/lib/python3.5/site-packages/IPython/core/ultratb.py\", line 1242, in structured_traceback\n",
      "    self, etype, value, tb, tb_offset, number_of_lines_of_context)\n",
      "  File \"//anaconda/lib/python3.5/site-packages/IPython/core/ultratb.py\", line 1150, in structured_traceback\n",
      "    self, etype, value, tb, tb_offset, number_of_lines_of_context\n",
      "  File \"//anaconda/lib/python3.5/site-packages/IPython/core/ultratb.py\", line 1002, in structured_traceback\n",
      "    tb_offset)\n",
      "  File \"//anaconda/lib/python3.5/site-packages/IPython/core/ultratb.py\", line 951, in format_exception_as_a_whole\n",
      "    frames = self.format_records(records)\n",
      "  File \"//anaconda/lib/python3.5/site-packages/IPython/core/ultratb.py\", line 724, in format_records\n",
      "    for frame, file, lnum, func, lines, index in records:\n",
      "TypeError: 'NoneType' object is not iterable\n",
      "\n",
      "During handling of the above exception, another exception occurred:\n",
      "\n",
      "Traceback (most recent call last):\n",
      "  File \"//anaconda/lib/python3.5/site-packages/IPython/core/interactiveshell.py\", line 1877, in showtraceback\n",
      "    stb = value._render_traceback_()\n",
      "AttributeError: 'TypeError' object has no attribute '_render_traceback_'\n",
      "\n",
      "During handling of the above exception, another exception occurred:\n",
      "\n",
      "Traceback (most recent call last):\n",
      "  File \"//anaconda/lib/python3.5/site-packages/IPython/core/ultratb.py\", line 970, in get_records\n",
      "    return _fixed_getinnerframes(etb, number_of_lines_of_context, tb_offset)\n",
      "  File \"//anaconda/lib/python3.5/site-packages/IPython/core/ultratb.py\", line 233, in wrapped\n",
      "    return f(*args, **kwargs)\n",
      "  File \"//anaconda/lib/python3.5/site-packages/IPython/core/ultratb.py\", line 267, in _fixed_getinnerframes\n",
      "    records = fix_frame_records_filenames(inspect.getinnerframes(etb, context))\n",
      "  File \"//anaconda/lib/python3.5/inspect.py\", line 1453, in getinnerframes\n",
      "    frameinfo = (tb.tb_frame,) + getframeinfo(tb, context)\n",
      "  File \"//anaconda/lib/python3.5/inspect.py\", line 1410, in getframeinfo\n",
      "    filename = getsourcefile(frame) or getfile(frame)\n",
      "  File \"//anaconda/lib/python3.5/inspect.py\", line 672, in getsourcefile\n",
      "    if getattr(getmodule(object, filename), '__loader__', None) is not None:\n",
      "  File \"//anaconda/lib/python3.5/inspect.py\", line 701, in getmodule\n",
      "    file = getabsfile(object, _filename)\n",
      "  File \"//anaconda/lib/python3.5/inspect.py\", line 685, in getabsfile\n",
      "    return os.path.normcase(os.path.abspath(_filename))\n",
      "  File \"//anaconda/lib/python3.5/posixpath.py\", line 361, in abspath\n",
      "    cwd = os.getcwd()\n",
      "FileNotFoundError: [Errno 2] No such file or directory\n"
     ]
    },
    {
     "name": "stderr",
     "output_type": "stream",
     "text": [
      "ERROR: Internal Python error in the inspect module.\n",
      "Below is the traceback from this internal error.\n",
      "\n",
      "\n",
      "Unfortunately, your original traceback can not be constructed.\n",
      "\n",
      "ERROR: Internal Python error in the inspect module.\n",
      "Below is the traceback from this internal error.\n",
      "\n",
      "\n",
      "Unfortunately, your original traceback can not be constructed.\n",
      "\n"
     ]
    },
    {
     "ename": "TypeError",
     "evalue": "'NoneType' object is not iterable",
     "output_type": "error",
     "traceback": [
      "Traceback (most recent call last):\n",
      "  File \"//anaconda/lib/python3.5/site-packages/IPython/core/interactiveshell.py\", line 3066, in run_code\n    exec(code_obj, self.user_global_ns, self.user_ns)\n",
      "  File \"<ipython-input-70-1dfc55cb4cbe>\", line 1, in <module>\n    df.to_csv(\"recent_news.csv\")\n",
      "  File \"//anaconda/lib/python3.5/site-packages/pandas/core/frame.py\", line 1332, in to_csv\n    formatter.save()\n",
      "  File \"//anaconda/lib/python3.5/site-packages/pandas/core/format.py\", line 1481, in save\n    compression=self.compression)\n",
      "  File \"//anaconda/lib/python3.5/site-packages/pandas/io/common.py\", line 354, in _get_handle\n    f = open(path, mode, errors='replace')\n",
      "FileNotFoundError: [Errno 2] No such file or directory: 'recent_news.csv'\n",
      "\nDuring handling of the above exception, another exception occurred:\n\n",
      "Traceback (most recent call last):\n",
      "  File \"//anaconda/lib/python3.5/site-packages/IPython/core/interactiveshell.py\", line 1877, in showtraceback\n    stb = value._render_traceback_()\n",
      "AttributeError: 'FileNotFoundError' object has no attribute '_render_traceback_'\n",
      "\nDuring handling of the above exception, another exception occurred:\n\n",
      "Traceback (most recent call last):\n",
      "  File \"//anaconda/lib/python3.5/site-packages/IPython/core/interactiveshell.py\", line 3012, in run_ast_nodes\n    if self.run_code(code, result):\n",
      "  File \"//anaconda/lib/python3.5/site-packages/IPython/core/interactiveshell.py\", line 3083, in run_code\n    self.showtraceback()\n",
      "  File \"//anaconda/lib/python3.5/site-packages/IPython/core/interactiveshell.py\", line 1880, in showtraceback\n    value, tb, tb_offset=tb_offset)\n",
      "  File \"//anaconda/lib/python3.5/site-packages/IPython/core/ultratb.py\", line 1242, in structured_traceback\n    self, etype, value, tb, tb_offset, number_of_lines_of_context)\n",
      "  File \"//anaconda/lib/python3.5/site-packages/IPython/core/ultratb.py\", line 1150, in structured_traceback\n    self, etype, value, tb, tb_offset, number_of_lines_of_context\n",
      "  File \"//anaconda/lib/python3.5/site-packages/IPython/core/ultratb.py\", line 1002, in structured_traceback\n    tb_offset)\n",
      "  File \"//anaconda/lib/python3.5/site-packages/IPython/core/ultratb.py\", line 951, in format_exception_as_a_whole\n    frames = self.format_records(records)\n",
      "  File \"//anaconda/lib/python3.5/site-packages/IPython/core/ultratb.py\", line 724, in format_records\n    for frame, file, lnum, func, lines, index in records:\n",
      "TypeError: 'NoneType' object is not iterable\n",
      "\nDuring handling of the above exception, another exception occurred:\n\n",
      "Traceback (most recent call last):\n",
      "  File \"//anaconda/lib/python3.5/site-packages/IPython/core/interactiveshell.py\", line 1877, in showtraceback\n    stb = value._render_traceback_()\n",
      "AttributeError: 'TypeError' object has no attribute '_render_traceback_'\n",
      "\nDuring handling of the above exception, another exception occurred:\n\n",
      "Traceback (most recent call last):\n",
      "  File \"//anaconda/lib/python3.5/site-packages/ipykernel/ipkernel.py\", line 175, in do_execute\n    shell.run_cell(code, store_history=store_history, silent=silent)\n",
      "  File \"//anaconda/lib/python3.5/site-packages/IPython/core/interactiveshell.py\", line 2902, in run_cell\n    interactivity=interactivity, compiler=compiler, result=result)\n",
      "  File \"//anaconda/lib/python3.5/site-packages/IPython/core/interactiveshell.py\", line 3031, in run_ast_nodes\n    self.showtraceback()\n",
      "  File \"//anaconda/lib/python3.5/site-packages/IPython/core/interactiveshell.py\", line 1880, in showtraceback\n    value, tb, tb_offset=tb_offset)\n",
      "  File \"//anaconda/lib/python3.5/site-packages/IPython/core/ultratb.py\", line 1242, in structured_traceback\n    self, etype, value, tb, tb_offset, number_of_lines_of_context)\n",
      "  File \"//anaconda/lib/python3.5/site-packages/IPython/core/ultratb.py\", line 1150, in structured_traceback\n    self, etype, value, tb, tb_offset, number_of_lines_of_context\n",
      "  File \"//anaconda/lib/python3.5/site-packages/IPython/core/ultratb.py\", line 1020, in structured_traceback\n    chained_exceptions_tb_offset)\n",
      "  File \"//anaconda/lib/python3.5/site-packages/IPython/core/ultratb.py\", line 951, in format_exception_as_a_whole\n    frames = self.format_records(records)\n",
      "  File \"//anaconda/lib/python3.5/site-packages/IPython/core/ultratb.py\", line 724, in format_records\n    for frame, file, lnum, func, lines, index in records:\n",
      "TypeError: 'NoneType' object is not iterable\n"
     ]
    }
   ],
   "source": [
    "df.to_csv(\"recent_news.csv\")"
   ]
  },
  {
   "cell_type": "code",
   "execution_count": null,
   "metadata": {
    "collapsed": true
   },
   "outputs": [],
   "source": []
  },
  {
   "cell_type": "code",
   "execution_count": null,
   "metadata": {
    "collapsed": true
   },
   "outputs": [],
   "source": []
  }
 ],
 "metadata": {
  "kernelspec": {
   "display_name": "Python 3",
   "language": "python",
   "name": "python3"
  },
  "language_info": {
   "codemirror_mode": {
    "name": "ipython",
    "version": 3
   },
   "file_extension": ".py",
   "mimetype": "text/x-python",
   "name": "python",
   "nbconvert_exporter": "python",
   "pygments_lexer": "ipython3",
   "version": "3.5.1"
  }
 },
 "nbformat": 4,
 "nbformat_minor": 0
}
